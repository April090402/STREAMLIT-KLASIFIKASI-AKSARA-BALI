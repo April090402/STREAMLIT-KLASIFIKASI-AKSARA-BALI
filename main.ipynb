{
 "cells": [
  {
   "cell_type": "markdown",
   "metadata": {},
   "source": [
    "1. Data Preprocessing"
   ]
  },
  {
   "cell_type": "code",
   "execution_count": 10,
   "metadata": {},
   "outputs": [],
   "source": [
    "from PIL import Image\n",
    "import os\n",
    "import cv2\n",
    "\n",
    "def zoom_out(image_path, zoom_factor, index):\n",
    "    # Ambil nama gambar\n",
    "    imgWithFormat = os.path.basename(image_path)\n",
    "    imgName = imgWithFormat.split(\".\")[0]\n",
    "    \n",
    "    # Buka gambar \n",
    "    original_image = Image.open(image_path)\n",
    "    original_width, original_height = original_image.size\n",
    "\n",
    "    # Hitung ukuran baru setelah diperbesar\n",
    "    new_width = int(original_width * zoom_factor)\n",
    "    new_height = int(original_height * zoom_factor)\n",
    "    \n",
    "    # Perbesar gambar menggunakan metode resampling lanczos\n",
    "    zoomed_out_image = original_image.resize((new_width, new_height), Image.LANCZOS)\n",
    "\n",
    "    # Buat latar belakang hitam dengan ukuran sesuai gambar asli\n",
    "    black_background = Image.new('RGB', (original_width, original_height), (0, 0, 0))\n",
    "\n",
    "    # Hitung posisi gambar yang diperbesar di tengah latar belakang hitam\n",
    "    x_offset = (original_width - new_width) // 2\n",
    "    y_offset = (original_height - new_height) // 2\n",
    "    \n",
    "    # Tempelkan gambar yang diperbesar ke latar belakang hitam\n",
    "    black_background.paste(zoomed_out_image, (x_offset, y_offset))\n",
    "    \n",
    "    # Simpan gambar\n",
    "    black_background.save(f\"/zoom_out_result{index}.jpg\")\n",
    "    \n",
    "def convert_to_binary(image_path , category, threshold=128):\n",
    "    # Baca gambar menggunakan OpenCV\n",
    "    image = cv2.imread(image_path, cv2.IMREAD_GRAYSCALE)\n",
    "    \n",
    "    # Lakukan ambang biner\n",
    "    _, binary_image = cv2.threshold(image, threshold, 255, cv2.THRESH_BINARY)\n",
    "    \n",
    "    if not os.path.exists(category):\n",
    "        os.makedirs(category)\n",
    "    \n",
    "    # Simpan gambar biner\n",
    "    cv2.imwrite(\"binary_image.jpg\", binary_image)\n",
    "\n",
    "# Path ke gambar yang ingin di-zoom-out\n",
    "image_path = \"dataset/10/1175.jpg\"\n",
    "\n",
    "# Faktor zoom-out (contoh: 0.5 berarti zoom out setengah dari ukuran asli)\n",
    "zoom_factor = 0.5\n",
    "# Panggil fungsi untuk membuat efek zoom out\n",
    "# zoom_out(image_path, zoom_factor, 1)\n",
    "convert_to_binary(image_path)\n"
   ]
  },
  {
   "cell_type": "code",
   "execution_count": null,
   "metadata": {},
   "outputs": [],
   "source": [
    "# Konversi ke biner\n",
    "def process_image_in_folder(path):\n",
    "    # Masuk ke dataset\n",
    "    for folder_name in os.listdir(path): # Loop nama folder\n",
    "        folder_path = os.path.join(path, folder_name)  # Memperbaiki variabel folder_path\n",
    "        for file_name in os.listdir(folder_path): \n",
    "            file_path = os.path.join(folder_path, file_name)\n",
    "            \n",
    "            convert_to_binary(image_path, folder_name)\n",
    "\n",
    "process_image_in_folder(\"dataset\")"
   ]
  }
 ],
 "metadata": {
  "kernelspec": {
   "display_name": "base",
   "language": "python",
   "name": "python3"
  },
  "language_info": {
   "codemirror_mode": {
    "name": "ipython",
    "version": 3
   },
   "file_extension": ".py",
   "mimetype": "text/x-python",
   "name": "python",
   "nbconvert_exporter": "python",
   "pygments_lexer": "ipython3",
   "version": "3.11.7"
  }
 },
 "nbformat": 4,
 "nbformat_minor": 2
}
