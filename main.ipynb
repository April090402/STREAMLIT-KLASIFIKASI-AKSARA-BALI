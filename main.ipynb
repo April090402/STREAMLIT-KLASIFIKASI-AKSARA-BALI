{
 "cells": [
  {
   "cell_type": "markdown",
   "metadata": {},
   "source": [
    "Import Library"
   ]
  },
  {
   "cell_type": "code",
   "execution_count": 20,
   "metadata": {},
   "outputs": [],
   "source": [
    "from PIL import Image\n",
    "import os\n",
    "import cv2\n",
    "from tqdm import tqdm"
   ]
  },
  {
   "cell_type": "markdown",
   "metadata": {},
   "source": [
    "1. Data Preprocessing"
   ]
  },
  {
   "cell_type": "code",
   "execution_count": 18,
   "metadata": {},
   "outputs": [],
   "source": [
    "def zoom_out(image_path, zoom_factor):\n",
    "    # Ambil nama gambar\n",
    "    imgWithFormat = os.path.basename(image_path)\n",
    "    imgName = imgWithFormat.split(\".\")[0]\n",
    "    \n",
    "    # Buka gambar \n",
    "    original_image = Image.open(image_path)\n",
    "    original_width, original_height = original_image.size\n",
    "\n",
    "    # Hitung ukuran baru setelah diperbesar\n",
    "    new_width = int(original_width * zoom_factor)\n",
    "    new_height = int(original_height * zoom_factor)\n",
    "    \n",
    "    # Perbesar gambar menggunakan metode resampling lanczos\n",
    "    zoomed_out_image = original_image.resize((new_width, new_height), Image.LANCZOS)\n",
    "\n",
    "    # Buat latar belakang hitam dengan ukuran sesuai gambar asli\n",
    "    black_background = Image.new('RGB', (original_width, original_height), (0, 0, 0))\n",
    "\n",
    "    # Hitung posisi gambar yang diperbesar di tengah latar belakang hitam\n",
    "    x_offset = (original_width - new_width) // 2\n",
    "    y_offset = (original_height - new_height) // 2\n",
    "    \n",
    "    # Tempelkan gambar yang diperbesar ke latar belakang hitam\n",
    "    black_background.paste(zoomed_out_image, (x_offset, y_offset))\n",
    "    \n",
    "    return black_background\n",
    "    \n",
    "def convert_to_binary(image_path, dst_path, threshold=128):\n",
    "    # Baca gambar menggunakan OpenCV\n",
    "    image = cv2.imread(image_path, cv2.IMREAD_GRAYSCALE)\n",
    "    \n",
    "    # Lakukan ambang biner\n",
    "    _, binary_image = cv2.threshold(image, threshold, 255, cv2.THRESH_BINARY)\n",
    "    \n",
    "    # Simpan gambar biner\n",
    "    cv2.imwrite(dst_path, binary_image)\n"
   ]
  },
  {
   "cell_type": "markdown",
   "metadata": {},
   "source": [
    "2. Zoom Out semua Gambar"
   ]
  },
  {
   "cell_type": "code",
   "execution_count": 13,
   "metadata": {},
   "outputs": [
    {
     "name": "stderr",
     "output_type": "stream",
     "text": [
      "100%|██████████| 100/100 [39:11<00:00, 23.51s/it]\n"
     ]
    }
   ],
   "source": [
    "def zoom_out_image_in_folder(path, dst_folder): \n",
    "    if not os.path.exists(dst_folder):\n",
    "        os.makedirs(dst_folder)\n",
    "    \n",
    "    for folder_name in os.listdir(path): # Loop nama folder\n",
    "        folder_path = os.path.join(path, folder_name)\n",
    "        output_folder_path = os.path.join(dst_folder, folder_name)\n",
    "        \n",
    "        if not os.path.exists(output_folder_path):\n",
    "            os.makedirs(output_folder_path)\n",
    "        \n",
    "        for file_name in os.listdir(folder_path): \n",
    "            file_path = os.path.join(folder_path, file_name)\n",
    "            \n",
    "            zoom_factors = [0.5, 0.6, 0.7, 0.8, 0.9, 1]\n",
    "            \n",
    "            img_name = file_name.split('.')[0]\n",
    "            \n",
    "            for factor in zoom_factors:\n",
    "                # Lakukan zoom out\n",
    "                zoomed_image = zoom_out(file_path, factor)\n",
    "                \n",
    "                output_file_path = os.path.join(output_folder_path, f\"{img_name}_zoomed_out_{int(factor*100)}.jpg\")\n",
    "                \n",
    "                # Simpan gambar\n",
    "                zoomed_image.save(output_file_path)\n",
    "\n",
    "for i in tqdm(range(100)):\n",
    "    zoom_out_image_in_folder(\"dataset\", \"zoom_out_image\")\n"
   ]
  },
  {
   "cell_type": "markdown",
   "metadata": {},
   "source": [
    "3. Ubah Semua Gambar ke Bentuk Biner"
   ]
  },
  {
   "cell_type": "code",
   "execution_count": 26,
   "metadata": {},
   "outputs": [
    {
     "name": "stderr",
     "output_type": "stream",
     "text": [
      "100%|██████████| 100/100 [33:22<00:00, 20.02s/it]\n"
     ]
    }
   ],
   "source": [
    "def process_image_in_folder(path, dst_folder):\n",
    "    if not os.path.exists(dst_folder):\n",
    "        os.makedirs(dst_folder)\n",
    "        \n",
    "    # Masuk ke dataset\n",
    "    for folder_name in os.listdir(path): \n",
    "        folder_path = os.path.join(path, folder_name)  \n",
    "        output_folder_path = os.path.join(dst_folder, folder_name)\n",
    "        \n",
    "        if not os.path.exists(output_folder_path):\n",
    "            os.makedirs(output_folder_path)\n",
    "        \n",
    "        # Iterasi setiap file dalam folder\n",
    "        for file_name in os.listdir(folder_path): \n",
    "            file_path = os.path.join(folder_path, file_name)\n",
    "            \n",
    "            # Periksa apakah file atau folder\n",
    "            if os.path.isfile(file_path):\n",
    "                # Tentukan path untuk menyimpan hasil biner\n",
    "                output_file_path = os.path.join(output_folder_path, file_name)\n",
    "                \n",
    "                # Proses dan simpan gambar biner\n",
    "                convert_to_binary(file_path, output_file_path, threshold=100)\n",
    "\n",
    "for i in tqdm(range(100)):\n",
    "    process_image_in_folder(\"zoom_out_image\", \"binary_image\")\n"
   ]
  },
  {
   "cell_type": "markdown",
   "metadata": {},
   "source": [
    "Ekstraksi Fitur Dengan HOG"
   ]
  },
  {
   "cell_type": "code",
   "execution_count": null,
   "metadata": {},
   "outputs": [],
   "source": []
  }
 ],
 "metadata": {
  "kernelspec": {
   "display_name": "base",
   "language": "python",
   "name": "python3"
  },
  "language_info": {
   "codemirror_mode": {
    "name": "ipython",
    "version": 3
   },
   "file_extension": ".py",
   "mimetype": "text/x-python",
   "name": "python",
   "nbconvert_exporter": "python",
   "pygments_lexer": "ipython3",
   "version": "3.11.7"
  }
 },
 "nbformat": 4,
 "nbformat_minor": 2
}
